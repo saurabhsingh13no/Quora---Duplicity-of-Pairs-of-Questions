{
 "cells": [
  {
   "cell_type": "code",
   "execution_count": 5,
   "metadata": {},
   "outputs": [],
   "source": [
    "%matplotlib inline\n",
    "import matplotlib.pyplot as plt\n",
    "import pandas as pd\n",
    "import numpy as np\n",
    "from patsy import dmatrices\n",
    "from sklearn.linear_model import LogisticRegression\n",
    "from sklearn.cross_validation import train_test_split\n",
    "from sklearn import metrics\n",
    "from sklearn.cross_validation import cross_val_score\n",
    "quora_questions=pd.read_csv(\"quora_dataset_modified_v2.csv\")"
   ]
  },
  {
   "cell_type": "code",
   "execution_count": 6,
   "metadata": {},
   "outputs": [
    {
     "data": {
      "text/html": [
       "<div>\n",
       "<table border=\"1\" class=\"dataframe\">\n",
       "  <thead>\n",
       "    <tr style=\"text-align: right;\">\n",
       "      <th></th>\n",
       "      <th>Unnamed: 0</th>\n",
       "      <th>Unnamed: 0.1</th>\n",
       "      <th>id</th>\n",
       "      <th>qid1</th>\n",
       "      <th>qid2</th>\n",
       "      <th>question1</th>\n",
       "      <th>question2</th>\n",
       "      <th>is_duplicate</th>\n",
       "      <th>Correlation</th>\n",
       "    </tr>\n",
       "  </thead>\n",
       "  <tbody>\n",
       "    <tr>\n",
       "      <th>0</th>\n",
       "      <td>0</td>\n",
       "      <td>0</td>\n",
       "      <td>0</td>\n",
       "      <td>1</td>\n",
       "      <td>2</td>\n",
       "      <td>step step guid invest share market india</td>\n",
       "      <td>step step guid invest share market</td>\n",
       "      <td>0</td>\n",
       "      <td>0.978190</td>\n",
       "    </tr>\n",
       "    <tr>\n",
       "      <th>1</th>\n",
       "      <td>1</td>\n",
       "      <td>1</td>\n",
       "      <td>1</td>\n",
       "      <td>3</td>\n",
       "      <td>4</td>\n",
       "      <td>stori kohinoor koh noor diamond</td>\n",
       "      <td>happen indian govern stole kohinoor koh noor d...</td>\n",
       "      <td>0</td>\n",
       "      <td>0.766073</td>\n",
       "    </tr>\n",
       "    <tr>\n",
       "      <th>2</th>\n",
       "      <td>2</td>\n",
       "      <td>2</td>\n",
       "      <td>2</td>\n",
       "      <td>5</td>\n",
       "      <td>6</td>\n",
       "      <td>can increa speed internet connect use vpn</td>\n",
       "      <td>can internet speed increa hack dns</td>\n",
       "      <td>0</td>\n",
       "      <td>0.473188</td>\n",
       "    </tr>\n",
       "    <tr>\n",
       "      <th>3</th>\n",
       "      <td>3</td>\n",
       "      <td>3</td>\n",
       "      <td>3</td>\n",
       "      <td>7</td>\n",
       "      <td>8</td>\n",
       "      <td>mental lone can solv</td>\n",
       "      <td>find remaind math 23 24 math divid 24 23</td>\n",
       "      <td>0</td>\n",
       "      <td>0.000000</td>\n",
       "    </tr>\n",
       "    <tr>\n",
       "      <th>4</th>\n",
       "      <td>4</td>\n",
       "      <td>4</td>\n",
       "      <td>4</td>\n",
       "      <td>9</td>\n",
       "      <td>10</td>\n",
       "      <td>one dissolv water quik sugar salt methan carbo...</td>\n",
       "      <td>fish surviv salt water</td>\n",
       "      <td>0</td>\n",
       "      <td>0.246763</td>\n",
       "    </tr>\n",
       "  </tbody>\n",
       "</table>\n",
       "</div>"
      ],
      "text/plain": [
       "   Unnamed: 0  Unnamed: 0.1  id  qid1  qid2  \\\n",
       "0           0             0   0     1     2   \n",
       "1           1             1   1     3     4   \n",
       "2           2             2   2     5     6   \n",
       "3           3             3   3     7     8   \n",
       "4           4             4   4     9    10   \n",
       "\n",
       "                                           question1  \\\n",
       "0           step step guid invest share market india   \n",
       "1                    stori kohinoor koh noor diamond   \n",
       "2          can increa speed internet connect use vpn   \n",
       "3                               mental lone can solv   \n",
       "4  one dissolv water quik sugar salt methan carbo...   \n",
       "\n",
       "                                           question2  is_duplicate  \\\n",
       "0                 step step guid invest share market             0   \n",
       "1  happen indian govern stole kohinoor koh noor d...             0   \n",
       "2                 can internet speed increa hack dns             0   \n",
       "3           find remaind math 23 24 math divid 24 23             0   \n",
       "4                             fish surviv salt water             0   \n",
       "\n",
       "   Correlation  \n",
       "0     0.978190  \n",
       "1     0.766073  \n",
       "2     0.473188  \n",
       "3     0.000000  \n",
       "4     0.246763  "
      ]
     },
     "execution_count": 6,
     "metadata": {},
     "output_type": "execute_result"
    }
   ],
   "source": [
    "quora_questions.head()"
   ]
  },
  {
   "cell_type": "code",
   "execution_count": 10,
   "metadata": {},
   "outputs": [
    {
     "data": {
      "text/html": [
       "<div>\n",
       "<table border=\"1\" class=\"dataframe\">\n",
       "  <thead>\n",
       "    <tr style=\"text-align: right;\">\n",
       "      <th></th>\n",
       "      <th>Unnamed: 0</th>\n",
       "      <th>Unnamed: 0.1</th>\n",
       "      <th>id</th>\n",
       "      <th>qid1</th>\n",
       "      <th>qid2</th>\n",
       "      <th>question1</th>\n",
       "      <th>question2</th>\n",
       "      <th>is_duplicate</th>\n",
       "      <th>Correlation</th>\n",
       "    </tr>\n",
       "  </thead>\n",
       "  <tbody>\n",
       "    <tr>\n",
       "      <th>0</th>\n",
       "      <td>0</td>\n",
       "      <td>0</td>\n",
       "      <td>0</td>\n",
       "      <td>1</td>\n",
       "      <td>2</td>\n",
       "      <td>step step guid invest share market india</td>\n",
       "      <td>step step guid invest share market</td>\n",
       "      <td>0</td>\n",
       "      <td>0.978190</td>\n",
       "    </tr>\n",
       "    <tr>\n",
       "      <th>1</th>\n",
       "      <td>1</td>\n",
       "      <td>1</td>\n",
       "      <td>1</td>\n",
       "      <td>3</td>\n",
       "      <td>4</td>\n",
       "      <td>stori kohinoor koh noor diamond</td>\n",
       "      <td>happen indian govern stole kohinoor koh noor d...</td>\n",
       "      <td>0</td>\n",
       "      <td>0.766073</td>\n",
       "    </tr>\n",
       "    <tr>\n",
       "      <th>2</th>\n",
       "      <td>2</td>\n",
       "      <td>2</td>\n",
       "      <td>2</td>\n",
       "      <td>5</td>\n",
       "      <td>6</td>\n",
       "      <td>can increa speed internet connect use vpn</td>\n",
       "      <td>can internet speed increa hack dns</td>\n",
       "      <td>0</td>\n",
       "      <td>0.473188</td>\n",
       "    </tr>\n",
       "    <tr>\n",
       "      <th>3</th>\n",
       "      <td>3</td>\n",
       "      <td>3</td>\n",
       "      <td>3</td>\n",
       "      <td>7</td>\n",
       "      <td>8</td>\n",
       "      <td>mental lone can solv</td>\n",
       "      <td>find remaind math 23 24 math divid 24 23</td>\n",
       "      <td>0</td>\n",
       "      <td>0.000000</td>\n",
       "    </tr>\n",
       "    <tr>\n",
       "      <th>4</th>\n",
       "      <td>4</td>\n",
       "      <td>4</td>\n",
       "      <td>4</td>\n",
       "      <td>9</td>\n",
       "      <td>10</td>\n",
       "      <td>one dissolv water quik sugar salt methan carbo...</td>\n",
       "      <td>fish surviv salt water</td>\n",
       "      <td>0</td>\n",
       "      <td>0.246763</td>\n",
       "    </tr>\n",
       "    <tr>\n",
       "      <th>5</th>\n",
       "      <td>5</td>\n",
       "      <td>5</td>\n",
       "      <td>5</td>\n",
       "      <td>11</td>\n",
       "      <td>12</td>\n",
       "      <td>astrolog capricorn sun cap moon cap rise say</td>\n",
       "      <td>m tripl capricorn sun moon ascend capricorn say</td>\n",
       "      <td>1</td>\n",
       "      <td>0.487290</td>\n",
       "    </tr>\n",
       "    <tr>\n",
       "      <th>6</th>\n",
       "      <td>6</td>\n",
       "      <td>6</td>\n",
       "      <td>6</td>\n",
       "      <td>13</td>\n",
       "      <td>14</td>\n",
       "      <td>buy tiago</td>\n",
       "      <td>keep childern activ far phone video game</td>\n",
       "      <td>0</td>\n",
       "      <td>0.000000</td>\n",
       "    </tr>\n",
       "    <tr>\n",
       "      <th>7</th>\n",
       "      <td>7</td>\n",
       "      <td>7</td>\n",
       "      <td>7</td>\n",
       "      <td>15</td>\n",
       "      <td>16</td>\n",
       "      <td>can good geologist</td>\n",
       "      <td>great geologist</td>\n",
       "      <td>1</td>\n",
       "      <td>0.802804</td>\n",
       "    </tr>\n",
       "    <tr>\n",
       "      <th>8</th>\n",
       "      <td>8</td>\n",
       "      <td>8</td>\n",
       "      <td>8</td>\n",
       "      <td>17</td>\n",
       "      <td>18</td>\n",
       "      <td>use instead</td>\n",
       "      <td>use instead</td>\n",
       "      <td>0</td>\n",
       "      <td>1.000000</td>\n",
       "    </tr>\n",
       "    <tr>\n",
       "      <th>9</th>\n",
       "      <td>9</td>\n",
       "      <td>9</td>\n",
       "      <td>9</td>\n",
       "      <td>19</td>\n",
       "      <td>20</td>\n",
       "      <td>motorola compani can hack charter motorolla dc...</td>\n",
       "      <td>hack motorola dcx3400 free internet</td>\n",
       "      <td>0</td>\n",
       "      <td>0.638313</td>\n",
       "    </tr>\n",
       "    <tr>\n",
       "      <th>10</th>\n",
       "      <td>10</td>\n",
       "      <td>10</td>\n",
       "      <td>10</td>\n",
       "      <td>21</td>\n",
       "      <td>22</td>\n",
       "      <td>method find separ slit use fresnel biprism</td>\n",
       "      <td>thing technician can tell durabl reliabl lapto...</td>\n",
       "      <td>0</td>\n",
       "      <td>0.000000</td>\n",
       "    </tr>\n",
       "    <tr>\n",
       "      <th>11</th>\n",
       "      <td>11</td>\n",
       "      <td>11</td>\n",
       "      <td>11</td>\n",
       "      <td>23</td>\n",
       "      <td>24</td>\n",
       "      <td>read find youtub comment</td>\n",
       "      <td>can see youtub comment</td>\n",
       "      <td>1</td>\n",
       "      <td>0.654103</td>\n",
       "    </tr>\n",
       "    <tr>\n",
       "      <th>12</th>\n",
       "      <td>12</td>\n",
       "      <td>12</td>\n",
       "      <td>12</td>\n",
       "      <td>25</td>\n",
       "      <td>26</td>\n",
       "      <td>can make physic easi learn</td>\n",
       "      <td>can make physic easi learn</td>\n",
       "      <td>1</td>\n",
       "      <td>1.000000</td>\n",
       "    </tr>\n",
       "    <tr>\n",
       "      <th>13</th>\n",
       "      <td>13</td>\n",
       "      <td>13</td>\n",
       "      <td>13</td>\n",
       "      <td>27</td>\n",
       "      <td>28</td>\n",
       "      <td>first sexual experi like</td>\n",
       "      <td>first sexual experi</td>\n",
       "      <td>1</td>\n",
       "      <td>0.933629</td>\n",
       "    </tr>\n",
       "    <tr>\n",
       "      <th>14</th>\n",
       "      <td>14</td>\n",
       "      <td>14</td>\n",
       "      <td>14</td>\n",
       "      <td>29</td>\n",
       "      <td>30</td>\n",
       "      <td>law chang status student visa green card us co...</td>\n",
       "      <td>law chang status student visa green card us co...</td>\n",
       "      <td>0</td>\n",
       "      <td>0.922428</td>\n",
       "    </tr>\n",
       "    <tr>\n",
       "      <th>15</th>\n",
       "      <td>15</td>\n",
       "      <td>15</td>\n",
       "      <td>15</td>\n",
       "      <td>31</td>\n",
       "      <td>32</td>\n",
       "      <td>trump presid mean current intern master s stud...</td>\n",
       "      <td>will trump presid affect student present us pl...</td>\n",
       "      <td>1</td>\n",
       "      <td>0.237320</td>\n",
       "    </tr>\n",
       "    <tr>\n",
       "      <th>16</th>\n",
       "      <td>16</td>\n",
       "      <td>16</td>\n",
       "      <td>16</td>\n",
       "      <td>33</td>\n",
       "      <td>34</td>\n",
       "      <td>manipul mean</td>\n",
       "      <td>manipul mean</td>\n",
       "      <td>1</td>\n",
       "      <td>1.000000</td>\n",
       "    </tr>\n",
       "    <tr>\n",
       "      <th>17</th>\n",
       "      <td>17</td>\n",
       "      <td>17</td>\n",
       "      <td>17</td>\n",
       "      <td>35</td>\n",
       "      <td>36</td>\n",
       "      <td>girl want friend guy reject</td>\n",
       "      <td>guy feel reject girl</td>\n",
       "      <td>0</td>\n",
       "      <td>0.748987</td>\n",
       "    </tr>\n",
       "    <tr>\n",
       "      <th>18</th>\n",
       "      <td>18</td>\n",
       "      <td>18</td>\n",
       "      <td>18</td>\n",
       "      <td>37</td>\n",
       "      <td>38</td>\n",
       "      <td>mani quora user post question readili answer g...</td>\n",
       "      <td>peopl ask quora question can answer easili googl</td>\n",
       "      <td>1</td>\n",
       "      <td>0.410678</td>\n",
       "    </tr>\n",
       "    <tr>\n",
       "      <th>19</th>\n",
       "      <td>19</td>\n",
       "      <td>19</td>\n",
       "      <td>19</td>\n",
       "      <td>39</td>\n",
       "      <td>40</td>\n",
       "      <td>best digit market institut banglor</td>\n",
       "      <td>best digit market institut pune</td>\n",
       "      <td>0</td>\n",
       "      <td>0.642286</td>\n",
       "    </tr>\n",
       "  </tbody>\n",
       "</table>\n",
       "</div>"
      ],
      "text/plain": [
       "    Unnamed: 0  Unnamed: 0.1  id  qid1  qid2  \\\n",
       "0            0             0   0     1     2   \n",
       "1            1             1   1     3     4   \n",
       "2            2             2   2     5     6   \n",
       "3            3             3   3     7     8   \n",
       "4            4             4   4     9    10   \n",
       "5            5             5   5    11    12   \n",
       "6            6             6   6    13    14   \n",
       "7            7             7   7    15    16   \n",
       "8            8             8   8    17    18   \n",
       "9            9             9   9    19    20   \n",
       "10          10            10  10    21    22   \n",
       "11          11            11  11    23    24   \n",
       "12          12            12  12    25    26   \n",
       "13          13            13  13    27    28   \n",
       "14          14            14  14    29    30   \n",
       "15          15            15  15    31    32   \n",
       "16          16            16  16    33    34   \n",
       "17          17            17  17    35    36   \n",
       "18          18            18  18    37    38   \n",
       "19          19            19  19    39    40   \n",
       "\n",
       "                                            question1  \\\n",
       "0            step step guid invest share market india   \n",
       "1                     stori kohinoor koh noor diamond   \n",
       "2           can increa speed internet connect use vpn   \n",
       "3                                mental lone can solv   \n",
       "4   one dissolv water quik sugar salt methan carbo...   \n",
       "5        astrolog capricorn sun cap moon cap rise say   \n",
       "6                                           buy tiago   \n",
       "7                                  can good geologist   \n",
       "8                                         use instead   \n",
       "9   motorola compani can hack charter motorolla dc...   \n",
       "10         method find separ slit use fresnel biprism   \n",
       "11                           read find youtub comment   \n",
       "12                         can make physic easi learn   \n",
       "13                           first sexual experi like   \n",
       "14  law chang status student visa green card us co...   \n",
       "15  trump presid mean current intern master s stud...   \n",
       "16                                       manipul mean   \n",
       "17                        girl want friend guy reject   \n",
       "18  mani quora user post question readili answer g...   \n",
       "19                 best digit market institut banglor   \n",
       "\n",
       "                                            question2  is_duplicate  \\\n",
       "0                  step step guid invest share market             0   \n",
       "1   happen indian govern stole kohinoor koh noor d...             0   \n",
       "2                  can internet speed increa hack dns             0   \n",
       "3            find remaind math 23 24 math divid 24 23             0   \n",
       "4                              fish surviv salt water             0   \n",
       "5     m tripl capricorn sun moon ascend capricorn say             1   \n",
       "6            keep childern activ far phone video game             0   \n",
       "7                                     great geologist             1   \n",
       "8                                         use instead             0   \n",
       "9                 hack motorola dcx3400 free internet             0   \n",
       "10  thing technician can tell durabl reliabl lapto...             0   \n",
       "11                             can see youtub comment             1   \n",
       "12                         can make physic easi learn             1   \n",
       "13                                first sexual experi             1   \n",
       "14  law chang status student visa green card us co...             0   \n",
       "15  will trump presid affect student present us pl...             1   \n",
       "16                                       manipul mean             1   \n",
       "17                               guy feel reject girl             0   \n",
       "18   peopl ask quora question can answer easili googl             1   \n",
       "19                    best digit market institut pune             0   \n",
       "\n",
       "    Correlation  \n",
       "0      0.978190  \n",
       "1      0.766073  \n",
       "2      0.473188  \n",
       "3      0.000000  \n",
       "4      0.246763  \n",
       "5      0.487290  \n",
       "6      0.000000  \n",
       "7      0.802804  \n",
       "8      1.000000  \n",
       "9      0.638313  \n",
       "10     0.000000  \n",
       "11     0.654103  \n",
       "12     1.000000  \n",
       "13     0.933629  \n",
       "14     0.922428  \n",
       "15     0.237320  \n",
       "16     1.000000  \n",
       "17     0.748987  \n",
       "18     0.410678  \n",
       "19     0.642286  "
      ]
     },
     "execution_count": 10,
     "metadata": {},
     "output_type": "execute_result"
    }
   ],
   "source": [
    "quora_questions[0:20]"
   ]
  },
  {
   "cell_type": "code",
   "execution_count": 2,
   "metadata": {},
   "outputs": [
    {
     "data": {
      "text/plain": [
       "0.71883927435662098"
      ]
     },
     "execution_count": 2,
     "metadata": {},
     "output_type": "execute_result"
    }
   ],
   "source": [
    "mean_corr=quora_questions['Correlation'][quora_questions['is_duplicate']==1].mean()\n",
    "mean_corr"
   ]
  },
  {
   "cell_type": "code",
   "execution_count": 3,
   "metadata": {
    "collapsed": true
   },
   "outputs": [],
   "source": [
    "from sklearn.model_selection import train_test_split\n",
    "\n",
    "train, test = train_test_split(quora_questions, test_size = 0.3)\n"
   ]
  },
  {
   "cell_type": "code",
   "execution_count": 4,
   "metadata": {},
   "outputs": [
    {
     "name": "stdout",
     "output_type": "stream",
     "text": [
      "Training set size :  283003\n",
      "Testing set size :  121287\n"
     ]
    }
   ],
   "source": [
    "print (\"Training set size : \",len(train))\n",
    "print (\"Testing set size : \",len(test))\n"
   ]
  },
  {
   "cell_type": "code",
   "execution_count": 5,
   "metadata": {},
   "outputs": [
    {
     "data": {
      "text/plain": [
       "<matplotlib.text.Text at 0x27577f9a588>"
      ]
     },
     "execution_count": 5,
     "metadata": {},
     "output_type": "execute_result"
    },
    {
     "data": {
      "image/png": "[encoded data removed]",
      "text/plain": [
       "<matplotlib.figure.Figure at 0x2757e015588>"
      ]
     },
     "metadata": {},
     "output_type": "display_data"
    }
   ],
   "source": [
    "train['is_duplicate'].hist()\n",
    "plt.title('Histogram of is_duplicate of trainging set')\n",
    "plt.xlabel('Is_duplicate')\n",
    "plt.ylabel('Frequency')"
   ]
  },
  {
   "cell_type": "code",
   "execution_count": 6,
   "metadata": {},
   "outputs": [
    {
     "data": {
      "text/plain": [
       "<matplotlib.text.Text at 0x27576af0ef0>"
      ]
     },
     "execution_count": 6,
     "metadata": {},
     "output_type": "execute_result"
    },
    {
     "data": {
      "image/png": "[encoded data removed]",
      "text/plain": [
       "<matplotlib.figure.Figure at 0x27576aae208>"
      ]
     },
     "metadata": {},
     "output_type": "display_data"
    }
   ],
   "source": [
    "test['is_duplicate'].hist()\n",
    "plt.title('Histogram of is_duplicate of testing set')\n",
    "plt.xlabel('Is_duplicate')\n",
    "plt.ylabel('Frequency')"
   ]
  },
  {
   "cell_type": "code",
   "execution_count": 7,
   "metadata": {},
   "outputs": [
    {
     "data": {
      "text/html": [
       "<div>\n",
       "<table border=\"1\" class=\"dataframe\">\n",
       "  <thead>\n",
       "    <tr style=\"text-align: right;\">\n",
       "      <th></th>\n",
       "      <th>Unnamed: 0</th>\n",
       "      <th>Unnamed: 0.1</th>\n",
       "      <th>id</th>\n",
       "      <th>qid1</th>\n",
       "      <th>qid2</th>\n",
       "      <th>Correlation</th>\n",
       "    </tr>\n",
       "    <tr>\n",
       "      <th>is_duplicate</th>\n",
       "      <th></th>\n",
       "      <th></th>\n",
       "      <th></th>\n",
       "      <th></th>\n",
       "      <th></th>\n",
       "      <th></th>\n",
       "    </tr>\n",
       "  </thead>\n",
       "  <tbody>\n",
       "    <tr>\n",
       "      <th>0</th>\n",
       "      <td>202642</td>\n",
       "      <td>202642</td>\n",
       "      <td>202642</td>\n",
       "      <td>246857</td>\n",
       "      <td>252644</td>\n",
       "      <td>0.484276</td>\n",
       "    </tr>\n",
       "    <tr>\n",
       "      <th>1</th>\n",
       "      <td>201039</td>\n",
       "      <td>201039</td>\n",
       "      <td>201039</td>\n",
       "      <td>166128</td>\n",
       "      <td>166406</td>\n",
       "      <td>0.718421</td>\n",
       "    </tr>\n",
       "  </tbody>\n",
       "</table>\n",
       "</div>"
      ],
      "text/plain": [
       "              Unnamed: 0  Unnamed: 0.1      id    qid1    qid2  Correlation\n",
       "is_duplicate                                                               \n",
       "0                 202642        202642  202642  246857  252644     0.484276\n",
       "1                 201039        201039  201039  166128  166406     0.718421"
      ]
     },
     "execution_count": 7,
     "metadata": {},
     "output_type": "execute_result"
    }
   ],
   "source": [
    "train.groupby('is_duplicate').mean()"
   ]
  },
  {
   "cell_type": "code",
   "execution_count": 8,
   "metadata": {},
   "outputs": [
    {
     "data": {
      "text/html": [
       "<div>\n",
       "<table border=\"1\" class=\"dataframe\">\n",
       "  <thead>\n",
       "    <tr style=\"text-align: right;\">\n",
       "      <th></th>\n",
       "      <th>Unnamed: 0</th>\n",
       "      <th>Unnamed: 0.1</th>\n",
       "      <th>id</th>\n",
       "      <th>qid1</th>\n",
       "      <th>qid2</th>\n",
       "      <th>Correlation</th>\n",
       "    </tr>\n",
       "    <tr>\n",
       "      <th>is_duplicate</th>\n",
       "      <th></th>\n",
       "      <th></th>\n",
       "      <th></th>\n",
       "      <th></th>\n",
       "      <th></th>\n",
       "      <th></th>\n",
       "    </tr>\n",
       "  </thead>\n",
       "  <tbody>\n",
       "    <tr>\n",
       "      <th>0</th>\n",
       "      <td>203595</td>\n",
       "      <td>203595</td>\n",
       "      <td>203595</td>\n",
       "      <td>247540</td>\n",
       "      <td>253076</td>\n",
       "      <td>0.486551</td>\n",
       "    </tr>\n",
       "    <tr>\n",
       "      <th>1</th>\n",
       "      <td>200255</td>\n",
       "      <td>200255</td>\n",
       "      <td>200255</td>\n",
       "      <td>166693</td>\n",
       "      <td>167022</td>\n",
       "      <td>0.719816</td>\n",
       "    </tr>\n",
       "  </tbody>\n",
       "</table>\n",
       "</div>"
      ],
      "text/plain": [
       "              Unnamed: 0  Unnamed: 0.1      id    qid1    qid2  Correlation\n",
       "is_duplicate                                                               \n",
       "0                 203595        203595  203595  247540  253076     0.486551\n",
       "1                 200255        200255  200255  166693  167022     0.719816"
      ]
     },
     "execution_count": 8,
     "metadata": {},
     "output_type": "execute_result"
    }
   ],
   "source": [
    "test.groupby('is_duplicate').mean()"
   ]
  },
  {
   "cell_type": "code",
   "execution_count": 9,
   "metadata": {},
   "outputs": [
    {
     "name": "stdout",
     "output_type": "stream",
     "text": [
      "Index(['Intercept', 'Correlation'], dtype='object')\n"
     ]
    }
   ],
   "source": [
    "# create dataframes with an intercept column \n",
    "y, X = dmatrices('is_duplicate ~ Correlation',quora_questions, return_type=\"dataframe\")\n",
    "print (X.columns)"
   ]
  },
  {
   "cell_type": "code",
   "execution_count": 10,
   "metadata": {
    "collapsed": true
   },
   "outputs": [],
   "source": [
    "import statsmodels.api as sm\n",
    "# flatten y into a 1-D array\n",
    "y = np.ravel(y)"
   ]
  },
  {
   "cell_type": "code",
   "execution_count": 11,
   "metadata": {},
   "outputs": [
    {
     "data": {
      "text/plain": [
       "0.66982858838952242"
      ]
     },
     "execution_count": 11,
     "metadata": {},
     "output_type": "execute_result"
    }
   ],
   "source": [
    "# instantiate a logistic regression model, and fit with X and y\n",
    "model = LogisticRegression()\n",
    "model = model.fit(X, y)\n",
    "\n",
    "# check the accuracy on the training set\n",
    "model.score(X, y) #here the accuracy is 66% which is decent "
   ]
  },
  {
   "cell_type": "code",
   "execution_count": 12,
   "metadata": {},
   "outputs": [
    {
     "data": {
      "text/plain": [
       "0.36919785302629299"
      ]
     },
     "execution_count": 12,
     "metadata": {},
     "output_type": "execute_result"
    }
   ],
   "source": [
    "# what percentage had duplicate?\n",
    "y.mean() # Only 36% of quora questions are duplicate which means we can get accuracy of 64% by always predecting No.\n",
    "         # so we are doing better but not much"
   ]
  },
  {
   "cell_type": "code",
   "execution_count": 13,
   "metadata": {},
   "outputs": [
    {
     "data": {
      "text/plain": [
       "LogisticRegression(C=1.0, class_weight=None, dual=False, fit_intercept=True,\n",
       "          intercept_scaling=1, max_iter=100, multi_class='ovr', n_jobs=1,\n",
       "          penalty='l2', random_state=None, solver='liblinear', tol=0.0001,\n",
       "          verbose=0, warm_start=False)"
      ]
     },
     "execution_count": 13,
     "metadata": {},
     "output_type": "execute_result"
    }
   ],
   "source": [
    "# evaluate the model by splitting into train and test sets \n",
    "X_train, X_test, y_train, y_test = train_test_split(X, y, test_size=0.3, random_state=0)\n",
    "model2 = LogisticRegression()\n",
    "model2.fit(X_train, y_train)"
   ]
  },
  {
   "cell_type": "code",
   "execution_count": 14,
   "metadata": {},
   "outputs": [
    {
     "name": "stdout",
     "output_type": "stream",
     "text": [
      "[ 0.  0.  0. ...,  0.  0.  0.]\n"
     ]
    }
   ],
   "source": [
    "# predict class labels for the test set\n",
    "predicted = model2.predict(X_test)\n",
    "print (predicted)"
   ]
  },
  {
   "cell_type": "code",
   "execution_count": 15,
   "metadata": {},
   "outputs": [
    {
     "name": "stdout",
     "output_type": "stream",
     "text": [
      "[[ 0.75136666  0.24863334]\n",
      " [ 0.57075312  0.42924688]\n",
      " [ 0.71070006  0.28929994]\n",
      " ..., \n",
      " [ 0.54830901  0.45169099]\n",
      " [ 0.57838803  0.42161197]\n",
      " [ 0.52145455  0.47854545]]\n"
     ]
    }
   ],
   "source": [
    "# generate class probabilities\n",
    "probs = model2.predict_proba(X_test)\n",
    "print (probs)"
   ]
  },
  {
   "cell_type": "code",
   "execution_count": 16,
   "metadata": {},
   "outputs": [
    {
     "name": "stdout",
     "output_type": "stream",
     "text": [
      "0.668934016012\n",
      "0.732511492831\n"
     ]
    }
   ],
   "source": [
    "# generate evaluation metrics\n",
    "print (metrics.accuracy_score(y_test, predicted))\n",
    "print (metrics.roc_auc_score(y_test, probs[:, 1]))\n",
    "# accuracy is still 66% which is same when as we experienced when training and predicting on the same data"
   ]
  },
  {
   "cell_type": "code",
   "execution_count": 17,
   "metadata": {},
   "outputs": [
    {
     "name": "stdout",
     "output_type": "stream",
     "text": [
      "[[60554 15806]\n",
      " [24348 20579]]\n",
      "             precision    recall  f1-score   support\n",
      "\n",
      "        0.0       0.71      0.79      0.75     76360\n",
      "        1.0       0.57      0.46      0.51     44927\n",
      "\n",
      "avg / total       0.66      0.67      0.66    121287\n",
      "\n"
     ]
    }
   ],
   "source": [
    "# Lets see the confusion matrix and a classification report with other metrics.\n",
    "print (metrics.confusion_matrix(y_test, predicted))\n",
    "print (metrics.classification_report(y_test, predicted))"
   ]
  },
  {
   "cell_type": "code",
   "execution_count": 18,
   "metadata": {},
   "outputs": [
    {
     "name": "stdout",
     "output_type": "stream",
     "text": [
      "[ 0.66829087  0.67187732  0.66608954  0.67110243  0.66707067  0.66934626\n",
      "  0.67043459  0.67198476  0.67092114  0.67131691]\n",
      "0.669843448923\n"
     ]
    }
   ],
   "source": [
    "# Now let's try 10-fold cross-validation, to see if the accuracy holds up more rigorously.\n",
    "# evaluate the model using 10-fold cross-validation\n",
    "scores = cross_val_score(LogisticRegression(), X, y, scoring='accuracy', cv=10)\n",
    "print (scores)\n",
    "print (scores.mean())\n",
    "\n",
    "#accuracy is still  66%"
   ]
  },
  {
   "cell_type": "code",
   "execution_count": 19,
   "metadata": {},
   "outputs": [
    {
     "name": "stderr",
     "output_type": "stream",
     "text": [
      "C:\\Users\\saura\\Miniconda3\\lib\\site-packages\\sklearn\\utils\\validation.py:395: DeprecationWarning: Passing 1d arrays as data is deprecated in 0.17 and will raise ValueError in 0.19. Reshape your data either using X.reshape(-1, 1) if your data has a single feature or X.reshape(1, -1) if it contains a single sample.\n",
      "  DeprecationWarning)\n"
     ]
    },
    {
     "data": {
      "text/plain": [
       "array([[ 0.46590123,  0.53409877]])"
      ]
     },
     "execution_count": 19,
     "metadata": {},
     "output_type": "execute_result"
    }
   ],
   "source": [
    "\n",
    "model.predict_proba(np.array([1, 0.8]))"
   ]
  },
  {
   "cell_type": "code",
   "execution_count": 20,
   "metadata": {},
   "outputs": [
    {
     "name": "stdout",
     "output_type": "stream",
     "text": [
      "(808582, 64063)\n",
      "Original Questions :  android phone best batteri life\n",
      "Alongside Question :  android phone good batteri life\n",
      "Correlation value with alongside question :   0.905818128243\n",
      "There is 72.61572272748465% chance that the questions are duplicate\n"
     ]
    },
    {
     "name": "stderr",
     "output_type": "stream",
     "text": [
      "C:\\Users\\saura\\Miniconda3\\lib\\site-packages\\sklearn\\utils\\validation.py:395: DeprecationWarning: Passing 1d arrays as data is deprecated in 0.17 and will raise ValueError in 0.19. Reshape your data either using X.reshape(-1, 1) if your data has a single feature or X.reshape(1, -1) if it contains a single sample.\n",
      "  DeprecationWarning)\n"
     ]
    }
   ],
   "source": [
    "new_question1=\"android phone best batteri life\"\n",
    "new_question2=\"android phone good batteri life\"\n",
    "\n",
    "document1=quora_questions['question1']\n",
    "document1=document1.fillna('0')\n",
    "document1[404290]=new_question1\n",
    "\n",
    "document2=quora_questions['question2']\n",
    "document2=document2.fillna('0')\n",
    "document2[404290]=new_question2\n",
    "\n",
    "document_all=document1[:]\n",
    "document_all=document_all.append(document2)\n",
    "from sklearn.feature_extraction.text import TfidfVectorizer\n",
    "tfidf_vectorizer = TfidfVectorizer()\n",
    "tfidf_vectorizer = TfidfVectorizer()\n",
    "tfidf_matrix_all = tfidf_vectorizer.fit_transform(document_all)\n",
    "print (tfidf_matrix_all.shape)\n",
    "\n",
    "\n",
    "# Predicting duplicity\n",
    "from sklearn.metrics.pairwise import cosine_similarity\n",
    "# question_no=8\n",
    "s=tfidf_matrix_all.shape\n",
    "a=cosine_similarity(tfidf_matrix_all[404290], tfidf_matrix_all[s[0]-1])\n",
    "print (\"Original Questions : \",document1[404290])\n",
    "print (\"Alongside Question : \",document2[404290])\n",
    "print (\"Correlation value with alongside question :  \",a[0][0])\n",
    "temp=model.predict_proba(np.array([a[0][0],1]))\n",
    "# print (temp)\n",
    "print (\"There is {}% chance that the questions are duplicate\".format(temp[0][1]*100))\n",
    "# len(document1)"
   ]
  },
  {
   "cell_type": "code",
   "execution_count": null,
   "metadata": {
    "collapsed": true
   },
   "outputs": [],
   "source": []
  }
 ],
 "metadata": {
  "kernelspec": {
   "display_name": "Python 3",
   "language": "python",
   "name": "python3"
  },
  "language_info": {
   "codemirror_mode": {
    "name": "ipython",
    "version": 3
   },
   "file_extension": ".py",
   "mimetype": "text/x-python",
   "name": "python",
   "nbconvert_exporter": "python",
   "pygments_lexer": "ipython3",
   "version": "3.5.3"
  }
 },
 "nbformat": 4,
 "nbformat_minor": 2
}
