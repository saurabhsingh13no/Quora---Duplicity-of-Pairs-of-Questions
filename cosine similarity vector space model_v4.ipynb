{
 "cells": [
  {
   "cell_type": "code",
   "execution_count": 1,
   "metadata": {},
   "outputs": [
    {
     "name": "stdout",
     "output_type": "stream",
     "text": [
      "(404290, 50275)\n",
      "(404290, 45732)\n",
      "(808580, 64063)\n"
     ]
    }
   ],
   "source": [
    "import pandas as pd\n",
    "import numpy as np\n",
    "quora_questions=pd.read_csv(\"quora_dataset_modified.csv\")\n",
    "document1=quora_questions['question1']\n",
    "document1=document1.fillna('0')\n",
    "\n",
    "document2=quora_questions['question2']\n",
    "document2=document2.fillna('0')\n",
    "# documents=(\"Why is India red\",\"This is fun\")\n",
    "\n",
    "\n",
    "from sklearn.feature_extraction.text import TfidfVectorizer\n",
    "tfidf_vectorizer = TfidfVectorizer()\n",
    "# print (tfidf_vectorizer.fit(\"This is shit?\"))\n",
    "tfidf_matrix1 = tfidf_vectorizer.fit_transform(document1)\n",
    "print (tfidf_matrix1.shape)\n",
    "length_tfidf_matrix1=tfidf_matrix1.shape[0]\n",
    "\n",
    "tfidf_vectorizer = TfidfVectorizer()\n",
    "tfidf_matrix2 = tfidf_vectorizer.fit_transform(document2)\n",
    "print (tfidf_matrix2.shape)\n",
    "length_tfidf_matrix2=tfidf_matrix2.shape[0]\n",
    "\n",
    "\n",
    "document_all=document1[:]\n",
    "document_all=document_all.append(document2)\n",
    "tfidf_vectorizer = TfidfVectorizer()\n",
    "tfidf_matrix_all = tfidf_vectorizer.fit_transform(document_all)\n",
    "print (tfidf_matrix_all.shape)"
   ]
  },
  {
   "cell_type": "code",
   "execution_count": 2,
   "metadata": {},
   "outputs": [
    {
     "data": {
      "text/html": [
       "<div>\n",
       "<table border=\"1\" class=\"dataframe\">\n",
       "  <thead>\n",
       "    <tr style=\"text-align: right;\">\n",
       "      <th></th>\n",
       "      <th>Unnamed: 0</th>\n",
       "      <th>id</th>\n",
       "      <th>qid1</th>\n",
       "      <th>qid2</th>\n",
       "      <th>question1</th>\n",
       "      <th>question2</th>\n",
       "      <th>is_duplicate</th>\n",
       "    </tr>\n",
       "  </thead>\n",
       "  <tbody>\n",
       "    <tr>\n",
       "      <th>0</th>\n",
       "      <td>0</td>\n",
       "      <td>0</td>\n",
       "      <td>1</td>\n",
       "      <td>2</td>\n",
       "      <td>step step guid invest share market india</td>\n",
       "      <td>step step guid invest share market</td>\n",
       "      <td>0</td>\n",
       "    </tr>\n",
       "    <tr>\n",
       "      <th>1</th>\n",
       "      <td>1</td>\n",
       "      <td>1</td>\n",
       "      <td>3</td>\n",
       "      <td>4</td>\n",
       "      <td>stori kohinoor koh noor diamond</td>\n",
       "      <td>happen indian govern stole kohinoor koh noor d...</td>\n",
       "      <td>0</td>\n",
       "    </tr>\n",
       "    <tr>\n",
       "      <th>2</th>\n",
       "      <td>2</td>\n",
       "      <td>2</td>\n",
       "      <td>5</td>\n",
       "      <td>6</td>\n",
       "      <td>can increa speed internet connect use vpn</td>\n",
       "      <td>can internet speed increa hack dns</td>\n",
       "      <td>0</td>\n",
       "    </tr>\n",
       "    <tr>\n",
       "      <th>3</th>\n",
       "      <td>3</td>\n",
       "      <td>3</td>\n",
       "      <td>7</td>\n",
       "      <td>8</td>\n",
       "      <td>mental lone can solv</td>\n",
       "      <td>find remaind math 23 24 math divid 24 23</td>\n",
       "      <td>0</td>\n",
       "    </tr>\n",
       "    <tr>\n",
       "      <th>4</th>\n",
       "      <td>4</td>\n",
       "      <td>4</td>\n",
       "      <td>9</td>\n",
       "      <td>10</td>\n",
       "      <td>one dissolv water quik sugar salt methan carbo...</td>\n",
       "      <td>fish surviv salt water</td>\n",
       "      <td>0</td>\n",
       "    </tr>\n",
       "  </tbody>\n",
       "</table>\n",
       "</div>"
      ],
      "text/plain": [
       "   Unnamed: 0  id  qid1  qid2  \\\n",
       "0           0   0     1     2   \n",
       "1           1   1     3     4   \n",
       "2           2   2     5     6   \n",
       "3           3   3     7     8   \n",
       "4           4   4     9    10   \n",
       "\n",
       "                                           question1  \\\n",
       "0           step step guid invest share market india   \n",
       "1                    stori kohinoor koh noor diamond   \n",
       "2          can increa speed internet connect use vpn   \n",
       "3                               mental lone can solv   \n",
       "4  one dissolv water quik sugar salt methan carbo...   \n",
       "\n",
       "                                           question2  is_duplicate  \n",
       "0                 step step guid invest share market             0  \n",
       "1  happen indian govern stole kohinoor koh noor d...             0  \n",
       "2                 can internet speed increa hack dns             0  \n",
       "3           find remaind math 23 24 math divid 24 23             0  \n",
       "4                             fish surviv salt water             0  "
      ]
     },
     "execution_count": 2,
     "metadata": {},
     "output_type": "execute_result"
    }
   ],
   "source": [
    "quora_questions.head()"
   ]
  },
  {
   "cell_type": "code",
   "execution_count": 50,
   "metadata": {},
   "outputs": [
    {
     "name": "stdout",
     "output_type": "stream",
     "text": [
      "Origianl Question no :  9\n",
      "Original Questions :  use instead\n",
      "\n",
      "Correlation value with alongside question :   1.0\n",
      "Alongside Question :  use instead\n",
      "Whether acutally duplicate or not :  \u001b[31m\"False\"\u001b[0m\n"
     ]
    }
   ],
   "source": [
    "from sklearn.metrics.pairwise import cosine_similarity\n",
    "question_no=8\n",
    "s=tfidf_matrix_all.shape\n",
    "a=cosine_similarity(tfidf_matrix_all[question_no], tfidf_matrix_all[404290+question_no:404290+question_no+1])\n",
    "# a=cosine_similarity(tfidf_matrix_all[question_no], tfidf_matrix_all)\n",
    "len(a[0])\n",
    "\n",
    "\n",
    "# tfidf_matrix_all[0:2]\n",
    "\n",
    "# index=0\n",
    "# maximum=0\n",
    "# listDuplicateQuestions=[]\n",
    "# for i in range(len(a[0])):\n",
    "#     if a[0][i] >0 and a[0][i]<1 and a[0][i]>maximum:\n",
    "#         maximum=a[0][i]\n",
    "#         index=i\n",
    "\n",
    "\n",
    "# # # print (maximum,index-404290)\n",
    "print (\"Origianl Question no : \",question_no + 1)\n",
    "print (\"Original Questions : \",document1[question_no])\n",
    "# print (\"Suggested duplication no : \",index)\n",
    "# print (\"Suggested Duplicate : \",document2[index])\n",
    "# print (\"Correlation Value with duplicate : \",maximum)\n",
    "print (\"\\nCorrelation value with alongside question :  \",a[0][0])\n",
    "print (\"Alongside Question : \",document2[question_no])\n",
    "print (\"Whether acutally duplicate or not : \",\"True\" if quora_questions['is_duplicate'][question_no]==1 \n",
    "       else \"\\x1b[31m\\\"False\\\"\\x1b[0m\")\n"
   ]
  },
  {
   "cell_type": "code",
   "execution_count": 51,
   "metadata": {},
   "outputs": [
    {
     "data": {
      "text/plain": [
       "404290"
      ]
     },
     "execution_count": 51,
     "metadata": {},
     "output_type": "execute_result"
    }
   ],
   "source": [
    "len(document1)"
   ]
  },
  {
   "cell_type": "code",
   "execution_count": 56,
   "metadata": {},
   "outputs": [
    {
     "name": "stdout",
     "output_type": "stream",
     "text": [
      "--- 418.28811383247375 seconds --- for 808780 questions\n"
     ]
    }
   ],
   "source": [
    "import time\n",
    "start_time = time.time()\n",
    "corr=[]\n",
    "# count=0\n",
    "for question_no in range(len(document1)):\n",
    "#     if count>200:\n",
    "#         break\n",
    "    a=cosine_similarity(tfidf_matrix_all[question_no], tfidf_matrix_all[404290+question_no:404290+question_no+1])\n",
    "    corr.append(a[0][0])\n",
    "    count+=1\n",
    "corr\n",
    "print(\"--- %s seconds --- for %d questions\" % ((time.time() - start_time),count))\n"
   ]
  },
  {
   "cell_type": "code",
   "execution_count": 59,
   "metadata": {
    "collapsed": true
   },
   "outputs": [],
   "source": [
    "quora_questions['Correlation']=corr\n",
    "quora_questions.to_csv(\"quora_dataset_modified_v2.csv\")"
   ]
  },
  {
   "cell_type": "code",
   "execution_count": null,
   "metadata": {
    "collapsed": true
   },
   "outputs": [],
   "source": []
  }
 ],
 "metadata": {
  "kernelspec": {
   "display_name": "Python 3",
   "language": "python",
   "name": "python3"
  },
  "language_info": {
   "codemirror_mode": {
    "name": "ipython",
    "version": 3
   },
   "file_extension": ".py",
   "mimetype": "text/x-python",
   "name": "python",
   "nbconvert_exporter": "python",
   "pygments_lexer": "ipython3",
   "version": "3.5.3"
  }
 },
 "nbformat": 4,
 "nbformat_minor": 2
}
