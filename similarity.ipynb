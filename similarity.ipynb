{
 "cells": [
  {
   "cell_type": "code",
   "execution_count": 2,
   "metadata": {
    "collapsed": true
   },
   "outputs": [],
   "source": [
    "%matplotlib inline\n",
    "import matplotlib.pyplot as plt\n",
    "import pandas as pd\n",
    "import numpy as np\n",
    "quora_questions=pd.read_csv(\"quora_dataset_csv.csv\")\n"
   ]
  },
  {
   "cell_type": "code",
   "execution_count": 3,
   "metadata": {},
   "outputs": [
    {
     "data": {
      "text/html": [
       "<div>\n",
       "<table border=\"1\" class=\"dataframe\">\n",
       "  <thead>\n",
       "    <tr style=\"text-align: right;\">\n",
       "      <th></th>\n",
       "      <th>id</th>\n",
       "      <th>qid1</th>\n",
       "      <th>qid2</th>\n",
       "      <th>question1</th>\n",
       "      <th>question1_senti</th>\n",
       "      <th>question2</th>\n",
       "      <th>question2_senti</th>\n",
       "      <th>is_duplicate</th>\n",
       "      <th>Corelation_API</th>\n",
       "    </tr>\n",
       "  </thead>\n",
       "  <tbody>\n",
       "    <tr>\n",
       "      <th>0</th>\n",
       "      <td>0</td>\n",
       "      <td>1</td>\n",
       "      <td>2</td>\n",
       "      <td>What is the step by step guide to invest in sh...</td>\n",
       "      <td>0.9028</td>\n",
       "      <td>What is the step by step guide to invest in sh...</td>\n",
       "      <td>0.902765</td>\n",
       "      <td>0</td>\n",
       "      <td>0.9732</td>\n",
       "    </tr>\n",
       "    <tr>\n",
       "      <th>1</th>\n",
       "      <td>1</td>\n",
       "      <td>3</td>\n",
       "      <td>4</td>\n",
       "      <td>What is the story of Kohinoor (Koh-i-Noor) Dia...</td>\n",
       "      <td>0.5000</td>\n",
       "      <td>What would happen if the Indian government sto...</td>\n",
       "      <td>0.753156</td>\n",
       "      <td>0</td>\n",
       "      <td>0.7541</td>\n",
       "    </tr>\n",
       "    <tr>\n",
       "      <th>2</th>\n",
       "      <td>2</td>\n",
       "      <td>5</td>\n",
       "      <td>6</td>\n",
       "      <td>How can I increase the speed of my internet co...</td>\n",
       "      <td>0.8150</td>\n",
       "      <td>How can Internet speed be increased by hacking...</td>\n",
       "      <td>0.884272</td>\n",
       "      <td>0</td>\n",
       "      <td>0.7700</td>\n",
       "    </tr>\n",
       "    <tr>\n",
       "      <th>3</th>\n",
       "      <td>3</td>\n",
       "      <td>7</td>\n",
       "      <td>8</td>\n",
       "      <td>Why am I mentally very lonely? How can I solve...</td>\n",
       "      <td>0.1400</td>\n",
       "      <td>Find the remainder when [math]23^{24}[/math] i...</td>\n",
       "      <td>0.500000</td>\n",
       "      <td>0</td>\n",
       "      <td>0.3290</td>\n",
       "    </tr>\n",
       "    <tr>\n",
       "      <th>4</th>\n",
       "      <td>4</td>\n",
       "      <td>9</td>\n",
       "      <td>10</td>\n",
       "      <td>Which one dissolve in water quikly sugar, salt...</td>\n",
       "      <td>0.5000</td>\n",
       "      <td>Which fish would survive in salt water?</td>\n",
       "      <td>0.500000</td>\n",
       "      <td>0</td>\n",
       "      <td>0.5110</td>\n",
       "    </tr>\n",
       "  </tbody>\n",
       "</table>\n",
       "</div>"
      ],
      "text/plain": [
       "   id  qid1  qid2                                          question1  \\\n",
       "0   0     1     2  What is the step by step guide to invest in sh...   \n",
       "1   1     3     4  What is the story of Kohinoor (Koh-i-Noor) Dia...   \n",
       "2   2     5     6  How can I increase the speed of my internet co...   \n",
       "3   3     7     8  Why am I mentally very lonely? How can I solve...   \n",
       "4   4     9    10  Which one dissolve in water quikly sugar, salt...   \n",
       "\n",
       "   question1_senti                                          question2  \\\n",
       "0           0.9028  What is the step by step guide to invest in sh...   \n",
       "1           0.5000  What would happen if the Indian government sto...   \n",
       "2           0.8150  How can Internet speed be increased by hacking...   \n",
       "3           0.1400  Find the remainder when [math]23^{24}[/math] i...   \n",
       "4           0.5000            Which fish would survive in salt water?   \n",
       "\n",
       "   question2_senti  is_duplicate  Corelation_API  \n",
       "0         0.902765             0          0.9732  \n",
       "1         0.753156             0          0.7541  \n",
       "2         0.884272             0          0.7700  \n",
       "3         0.500000             0          0.3290  \n",
       "4         0.500000             0          0.5110  "
      ]
     },
     "execution_count": 3,
     "metadata": {},
     "output_type": "execute_result"
    }
   ],
   "source": [
    "quora_questions.head()"
   ]
  },
  {
   "cell_type": "code",
   "execution_count": 4,
   "metadata": {},
   "outputs": [
    {
     "data": {
      "text/plain": [
       "'What is the step by step guide to invest in share market in india?'"
      ]
     },
     "execution_count": 4,
     "metadata": {},
     "output_type": "execute_result"
    }
   ],
   "source": [
    "quora_questions['question1'][0]"
   ]
  },
  {
   "cell_type": "code",
   "execution_count": 5,
   "metadata": {},
   "outputs": [
    {
     "name": "stdout",
     "output_type": "stream",
     "text": [
      "b'0.8810201530378764'\n",
      "b'0.7253238835545901'\n",
      "b'0.87615210673113542'\n",
      "b'0.87196516006624636'\n",
      "b'0.77463920974193257'\n",
      "b'0.28402026994182888'\n",
      "b'0.67387309397153616'\n",
      "b'0.7902601084739842'\n",
      "b'0.82988771299933517'\n",
      "b'0.90357423282525884'\n",
      "b'0.83991556994224925'\n",
      "b'0.7871389696916351'\n",
      "b'0.81822589252233668'\n",
      "b'0.89793144451839979'\n",
      "b'0.94720268591380175'\n",
      "b'0.95662113857187336'\n",
      "b'0.80501971672777151'\n",
      "b'0.77288379288457143'\n",
      "b'0.94588788346038921'\n",
      "b'0.97784818119495365'\n",
      "b'0.98648391737267627'\n",
      "b'0.85071739083460984'\n",
      "b'0.930346947055372'\n",
      "b'0.89320705002459189'\n",
      "b'0.81851319246850684'\n",
      "b'0.89117036821229612'\n",
      "b'0.881291030844985'\n",
      "b'0.68654474928652653'\n",
      "b'0.96858176080787961'\n",
      "b'0.59408710351141414'\n",
      "b'0.67169065025968921'\n",
      "b'0.70403121996817242'\n",
      "b'0.763765422198628'\n",
      "b'0.65920672189191154'\n",
      "b'0.555341043302708'\n",
      "b'0.58221872599448166'\n",
      "b'0.99171516193784437'\n",
      "b'0.76151022542893354'\n",
      "b'0.86087517886299414'\n",
      "b'0.9539692603584834'\n",
      "b'0.95460947984853128'\n",
      "b'0.88352906229563632'\n",
      "b'0.25603081933038208'\n",
      "b'0.86168363909668955'\n",
      "b'0.99949197531909739'\n",
      "b'0.87914966882758172'\n",
      "b'0.95831766172095389'\n",
      "b'0.73877734820302832'\n",
      "b'0.8676485327274055'\n",
      "b'0.70302813887711135'\n",
      "b'0.75176022457304825'\n",
      "b'0.83207000940681308'\n",
      "b'0.6770167956451395'\n",
      "b'0.79069923593623936'\n",
      "b'0.93694115393690747'\n",
      "b'0.99591738606839386'\n",
      "b'0.82220760371641644'\n",
      "b'0.91409519776776815'\n",
      "b'0.88548721639114059'\n",
      "b'0.82412323688651323'\n",
      "b'0.80196437182058222'\n",
      "b'0.78340546847799353'\n",
      "b'0.58454378580170918'\n",
      "b'0.97220401210496588'\n",
      "b'0.56422216280162607'\n",
      "b'0.77933538412011738'\n",
      "b'0.91892243290992048'\n",
      "b'0.86736753877301753'\n",
      "b'0.80868416997435366'\n",
      "b'0.94340175786300751'\n",
      "b'0.79645967965335418'\n",
      "b'0.8575529152620307'\n",
      "b'0.89903211861915922'\n",
      "b'0.84128089688600782'\n",
      "b'0.88569419449318776'\n",
      "b'0.84762946614845114'\n",
      "b'0.89484175484127726'\n",
      "b'0.92437934043144521'\n",
      "b'0.81038646933396'\n",
      "b'0.685932367297131'\n",
      "b'0.72809219516591694'\n",
      "b'0.66911536563790464'\n",
      "b'0.87327083783984'\n",
      "b'0.92842792448533862'\n",
      "b'0.85793893145293176'\n",
      "b'0.89061033137554935'\n",
      "b'0.70980233895572042'\n",
      "b'0.761735026222578'\n",
      "b'0.70242887876658988'\n",
      "b'0.88332513934617207'\n",
      "b'0.834815508835334'\n",
      "b'0.91290580054832371'\n",
      "b'0.94697049075154993'\n",
      "b'0.64835754018174541'\n",
      "b'0.91979779028749831'\n",
      "b'0.94829117047255718'\n",
      "b'0.542443702073704'\n",
      "b'0.78034412321820179'\n",
      "b'0.86114656321801808'\n",
      "b'0.951274692131807'\n",
      "b'0.73538860229879877'\n"
     ]
    }
   ],
   "source": [
    "import http.client, urllib.request, urllib.parse, urllib.error, base64\n",
    "count=0\n",
    "similarity_percent=[]\n",
    "question_list=[]\n",
    "while count<3000:\n",
    "    headers = {\n",
    "        # Request headers\n",
    "        'Ocp-Apim-Subscription-Key': 'USE-YOUR-OWN-KEY', # I already exhausted my credit. SORRY\n",
    "    }\n",
    "\n",
    "    params = urllib.parse.urlencode({\n",
    "        # Request parameters\n",
    "        's1': quora_questions['question1'][count],\n",
    "        's2': quora_questions['question2'][count],\n",
    "    })\n",
    "\n",
    "    try:\n",
    "        conn = http.client.HTTPSConnection('westus.api.cognitive.microsoft.com')\n",
    "        conn.request(\"GET\", \"/academic/v1.0/similarity?%s\" % params, \"{body}\", headers)\n",
    "        response = conn.getresponse()\n",
    "        data = response.read()\n",
    "        print(data)\n",
    "        question_list.append(quora_questions['question1'][count])\n",
    "        similarity_percent.append(data)\n",
    "        conn.close()\n",
    "        count+=1\n",
    "    except Exception as e:\n",
    "        print(\"[Errno {0}] {1}\".format(e.errno, e.strerror))"
   ]
  },
  {
   "cell_type": "code",
   "execution_count": 27,
   "metadata": {},
   "outputs": [
    {
     "name": "stdout",
     "output_type": "stream",
     "text": [
      "['Motorola (company): Can I hack my Charter Motorolla DCX3400?', 'Method to find separation of slits using fresnel biprism?', 'How do I read and find my YouTube comments?', 'What can make Physics easy to learn?'] [b'0.83665491450858209', b'0.046443744008566781', b'0.96442947329159956', b'0.98095345677959822']\n"
     ]
    }
   ],
   "source": [
    "print (question_list,similarity_percent)"
   ]
  },
  {
   "cell_type": "code",
   "execution_count": 6,
   "metadata": {
    "collapsed": true
   },
   "outputs": [],
   "source": [
    "sim=[]\n",
    "for i in range(len(similarity_percent)):\n",
    "    sim.append(similarity_percent[i].decode(\"utf-8\"))\n",
    "df=pd.DataFrame()\n",
    "df['quesiton']=question_list\n",
    "df['similarity']=sim"
   ]
  },
  {
   "cell_type": "code",
   "execution_count": 7,
   "metadata": {
    "collapsed": true
   },
   "outputs": [],
   "source": [
    "df.to_csv(\"accuracy.csv\")"
   ]
  },
  {
   "cell_type": "code",
   "execution_count": 43,
   "metadata": {},
   "outputs": [
    {
     "data": {
      "text/plain": [
       "'Why is contract law important?'"
      ]
     },
     "execution_count": 43,
     "metadata": {},
     "output_type": "execute_result"
    }
   ],
   "source": [
    "quora_questions['question1'][899]"
   ]
  },
  {
   "cell_type": "code",
   "execution_count": null,
   "metadata": {
    "collapsed": true
   },
   "outputs": [],
   "source": []
  }
 ],
 "metadata": {
  "kernelspec": {
   "display_name": "Python 3",
   "language": "python",
   "name": "python3"
  },
  "language_info": {
   "codemirror_mode": {
    "name": "ipython",
    "version": 3
   },
   "file_extension": ".py",
   "mimetype": "text/x-python",
   "name": "python",
   "nbconvert_exporter": "python",
   "pygments_lexer": "ipython3",
   "version": "3.5.3"
  }
 },
 "nbformat": 4,
 "nbformat_minor": 2
}
